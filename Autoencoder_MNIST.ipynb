{
 "cells": [
  {
   "cell_type": "markdown",
   "metadata": {},
   "source": [
    "Importing important libraries and enabling CUDA"
   ]
  },
  {
   "cell_type": "code",
   "execution_count": 1,
   "metadata": {},
   "outputs": [
    {
     "name": "stderr",
     "output_type": "stream",
     "text": [
      "Using TensorFlow backend.\n"
     ]
    }
   ],
   "source": [
    "import keras\n",
    "import numpy as np\n",
    "import tensorflow as tf\n",
    "from keras.layers import Input, Dense\n",
    "from keras.models import Model\n",
    "from keras.datasets import mnist\n",
    "sess = tf.Session(config=tf.ConfigProto(log_device_placement=True))"
   ]
  },
  {
   "cell_type": "code",
   "execution_count": 2,
   "metadata": {},
   "outputs": [],
   "source": [
    "import os \n",
    "os.environ[\"CUDA_VISIBLE_DEVICES\"]=\"0\""
   ]
  },
  {
   "cell_type": "code",
   "execution_count": 3,
   "metadata": {},
   "outputs": [
    {
     "name": "stdout",
     "output_type": "stream",
     "text": [
      "(60000, 28, 28)\n",
      "(10000, 28, 28)\n",
      "(60000, 784)\n",
      "(10000, 784)\n"
     ]
    }
   ],
   "source": [
    "(x_train,_), (x_test,_) = mnist.load_data()\n",
    "x_train = x_train.astype('float32')/255.\n",
    "x_test = x_test.astype('float32')/255.\n",
    "print(x_train.shape)\n",
    "print(x_test.shape)\n",
    "x_train = x_train.reshape((len(x_train),np.prod(x_train.shape[1:])))\n",
    "x_test = x_test.reshape((len(x_test),np.prod(x_test.shape[1:])))\n",
    "print(x_train.shape)\n",
    "print(x_test.shape)"
   ]
  },
  {
   "cell_type": "markdown",
   "metadata": {},
   "source": [
    "Deep Autoencoder"
   ]
  },
  {
   "cell_type": "code",
   "execution_count": 5,
   "metadata": {},
   "outputs": [
    {
     "name": "stderr",
     "output_type": "stream",
     "text": [
      "WARNING: Logging before flag parsing goes to stderr.\n",
      "W1006 07:39:43.942149 10484 deprecation_wrapper.py:119] From C:\\Users\\Vijay\\Miniconda3\\envs\\env2\\lib\\site-packages\\keras\\backend\\tensorflow_backend.py:74: The name tf.get_default_graph is deprecated. Please use tf.compat.v1.get_default_graph instead.\n",
      "\n",
      "W1006 07:39:43.945256 10484 deprecation_wrapper.py:119] From C:\\Users\\Vijay\\Miniconda3\\envs\\env2\\lib\\site-packages\\keras\\backend\\tensorflow_backend.py:517: The name tf.placeholder is deprecated. Please use tf.compat.v1.placeholder instead.\n",
      "\n",
      "W1006 07:39:43.956802 10484 deprecation_wrapper.py:119] From C:\\Users\\Vijay\\Miniconda3\\envs\\env2\\lib\\site-packages\\keras\\backend\\tensorflow_backend.py:4138: The name tf.random_uniform is deprecated. Please use tf.random.uniform instead.\n",
      "\n",
      "W1006 07:39:44.153335 10484 deprecation_wrapper.py:119] From C:\\Users\\Vijay\\Miniconda3\\envs\\env2\\lib\\site-packages\\keras\\optimizers.py:790: The name tf.train.Optimizer is deprecated. Please use tf.compat.v1.train.Optimizer instead.\n",
      "\n",
      "W1006 07:39:44.189227 10484 deprecation_wrapper.py:119] From C:\\Users\\Vijay\\Miniconda3\\envs\\env2\\lib\\site-packages\\keras\\backend\\tensorflow_backend.py:3376: The name tf.log is deprecated. Please use tf.math.log instead.\n",
      "\n",
      "W1006 07:39:44.203778 10484 deprecation.py:323] From C:\\Users\\Vijay\\Miniconda3\\envs\\env2\\lib\\site-packages\\tensorflow\\python\\ops\\nn_impl.py:180: add_dispatch_support.<locals>.wrapper (from tensorflow.python.ops.array_ops) is deprecated and will be removed in a future version.\n",
      "Instructions for updating:\n",
      "Use tf.where in 2.0, which has the same broadcast rule as np.where\n"
     ]
    }
   ],
   "source": [
    "input_img = Input(shape=(784,))\n",
    "encoder = Dense(128,activation='relu')(input_img)\n",
    "encoder = Dense(64,activation='relu')(encoder)\n",
    "encoder = Dense(32,activation='relu')(encoder)\n",
    "decoder = Dense(64,activation='relu')(encoder)\n",
    "decoder = Dense(128,activation='relu')(decoder)\n",
    "decoder = Dense(784,activation='sigmoid')(decoder)\n",
    "deep_ae = Model(input_img,decoder)\n",
    "deep_ae.compile(optimizer='adadelta',loss='binary_crossentropy')"
   ]
  },
  {
   "cell_type": "code",
   "execution_count": 6,
   "metadata": {},
   "outputs": [
    {
     "name": "stderr",
     "output_type": "stream",
     "text": [
      "W1006 07:39:47.356310 10484 deprecation_wrapper.py:119] From C:\\Users\\Vijay\\Miniconda3\\envs\\env2\\lib\\site-packages\\keras\\backend\\tensorflow_backend.py:986: The name tf.assign_add is deprecated. Please use tf.compat.v1.assign_add instead.\n",
      "\n"
     ]
    },
    {
     "name": "stdout",
     "output_type": "stream",
     "text": [
      "Train on 60000 samples, validate on 10000 samples\n",
      "Epoch 1/100\n",
      "60000/60000 [==============================] - 12s 201us/step - loss: 0.2723 - val_loss: 0.2358\n",
      "Epoch 2/100\n",
      "60000/60000 [==============================] - 12s 201us/step - loss: 0.2108 - val_loss: 0.1863\n",
      "Epoch 3/100\n",
      "60000/60000 [==============================] - 15s 247us/step - loss: 0.1752 - val_loss: 0.1647\n",
      "Epoch 4/100\n",
      "60000/60000 [==============================] - 15s 251us/step - loss: 0.1583 - val_loss: 0.1501\n",
      "Epoch 5/100\n",
      "60000/60000 [==============================] - 14s 228us/step - loss: 0.1469 - val_loss: 0.1422\n",
      "Epoch 6/100\n",
      "60000/60000 [==============================] - 14s 227us/step - loss: 0.1402 - val_loss: 0.1349\n",
      "Epoch 7/100\n",
      "60000/60000 [==============================] - 14s 241us/step - loss: 0.1346 - val_loss: 0.1290\n",
      "Epoch 8/100\n",
      "60000/60000 [==============================] - 11s 183us/step - loss: 0.1295 - val_loss: 0.1250\n",
      "Epoch 9/100\n",
      "60000/60000 [==============================] - 10s 170us/step - loss: 0.1253 - val_loss: 0.1207\n",
      "Epoch 10/100\n",
      "60000/60000 [==============================] - 11s 186us/step - loss: 0.1223 - val_loss: 0.1178\n",
      "Epoch 11/100\n",
      "60000/60000 [==============================] - 8s 125us/step - loss: 0.1200 - val_loss: 0.1175\n",
      "Epoch 12/100\n",
      "60000/60000 [==============================] - 10s 162us/step - loss: 0.1179 - val_loss: 0.1148\n",
      "Epoch 13/100\n",
      "60000/60000 [==============================] - 8s 138us/step - loss: 0.1158 - val_loss: 0.1129\n",
      "Epoch 14/100\n",
      "60000/60000 [==============================] - 11s 176us/step - loss: 0.1139 - val_loss: 0.1113\n",
      "Epoch 15/100\n",
      "60000/60000 [==============================] - 11s 181us/step - loss: 0.1124 - val_loss: 0.1128\n",
      "Epoch 16/100\n",
      "60000/60000 [==============================] - 13s 221us/step - loss: 0.1111 - val_loss: 0.1122\n",
      "Epoch 17/100\n",
      "60000/60000 [==============================] - 12s 197us/step - loss: 0.1097 - val_loss: 0.1097\n",
      "Epoch 18/100\n",
      "60000/60000 [==============================] - 14s 233us/step - loss: 0.1085 - val_loss: 0.1064\n",
      "Epoch 19/100\n",
      "60000/60000 [==============================] - 14s 232us/step - loss: 0.1075 - val_loss: 0.1056\n",
      "Epoch 20/100\n",
      "60000/60000 [==============================] - 13s 219us/step - loss: 0.1064 - val_loss: 0.1074\n",
      "Epoch 21/100\n",
      "60000/60000 [==============================] - 10s 166us/step - loss: 0.1055 - val_loss: 0.1098\n",
      "Epoch 22/100\n",
      "60000/60000 [==============================] - 10s 171us/step - loss: 0.1046 - val_loss: 0.1038\n",
      "Epoch 23/100\n",
      "60000/60000 [==============================] - 12s 205us/step - loss: 0.1038 - val_loss: 0.1045\n",
      "Epoch 24/100\n",
      "60000/60000 [==============================] - 12s 195us/step - loss: 0.1029 - val_loss: 0.1010\n",
      "Epoch 25/100\n",
      "60000/60000 [==============================] - 13s 219us/step - loss: 0.1022 - val_loss: 0.1014\n",
      "Epoch 26/100\n",
      "60000/60000 [==============================] - 13s 210us/step - loss: 0.1015 - val_loss: 0.0994\n",
      "Epoch 27/100\n",
      "60000/60000 [==============================] - 10s 161us/step - loss: 0.1007 - val_loss: 0.0992\n",
      "Epoch 28/100\n",
      "60000/60000 [==============================] - 13s 215us/step - loss: 0.1001 - val_loss: 0.0998\n",
      "Epoch 29/100\n",
      "60000/60000 [==============================] - 10s 161us/step - loss: 0.0995 - val_loss: 0.0981\n",
      "Epoch 30/100\n",
      "60000/60000 [==============================] - 9s 158us/step - loss: 0.0990 - val_loss: 0.0986\n",
      "Epoch 31/100\n",
      "60000/60000 [==============================] - 7s 121us/step - loss: 0.0985 - val_loss: 0.0955\n",
      "Epoch 32/100\n",
      "60000/60000 [==============================] - 8s 132us/step - loss: 0.0980 - val_loss: 0.0982\n",
      "Epoch 33/100\n",
      "60000/60000 [==============================] - 11s 177us/step - loss: 0.0976 - val_loss: 0.0965\n",
      "Epoch 34/100\n",
      "60000/60000 [==============================] - 11s 191us/step - loss: 0.0972 - val_loss: 0.0975\n",
      "Epoch 35/100\n",
      "60000/60000 [==============================] - 12s 206us/step - loss: 0.0967 - val_loss: 0.0962\n",
      "Epoch 36/100\n",
      "60000/60000 [==============================] - 10s 166us/step - loss: 0.0964 - val_loss: 0.0950\n",
      "Epoch 37/100\n",
      "60000/60000 [==============================] - 8s 142us/step - loss: 0.0960 - val_loss: 0.0950\n",
      "Epoch 38/100\n",
      "60000/60000 [==============================] - 13s 214us/step - loss: 0.0956 - val_loss: 0.0951\n",
      "Epoch 39/100\n",
      "60000/60000 [==============================] - 7s 117us/step - loss: 0.0953 - val_loss: 0.0974\n",
      "Epoch 40/100\n",
      "60000/60000 [==============================] - 8s 135us/step - loss: 0.0951 - val_loss: 0.0939\n",
      "Epoch 41/100\n",
      "60000/60000 [==============================] - 9s 152us/step - loss: 0.0947 - val_loss: 0.0939\n",
      "Epoch 42/100\n",
      "60000/60000 [==============================] - 8s 139us/step - loss: 0.0945 - val_loss: 0.0942\n",
      "Epoch 43/100\n",
      "60000/60000 [==============================] - 9s 146us/step - loss: 0.0941 - val_loss: 0.0923\n",
      "Epoch 44/100\n",
      "60000/60000 [==============================] - 9s 143us/step - loss: 0.0939 - val_loss: 0.0932\n",
      "Epoch 45/100\n",
      "60000/60000 [==============================] - 8s 139us/step - loss: 0.0937 - val_loss: 0.0928\n",
      "Epoch 46/100\n",
      "60000/60000 [==============================] - 10s 171us/step - loss: 0.0934 - val_loss: 0.0919\n",
      "Epoch 47/100\n",
      "60000/60000 [==============================] - 10s 162us/step - loss: 0.0932 - val_loss: 0.0915\n",
      "Epoch 48/100\n",
      "60000/60000 [==============================] - 10s 170us/step - loss: 0.0929 - val_loss: 0.0938\n",
      "Epoch 49/100\n",
      "60000/60000 [==============================] - 9s 151us/step - loss: 0.0928 - val_loss: 0.0924\n",
      "Epoch 50/100\n",
      "60000/60000 [==============================] - 8s 128us/step - loss: 0.0926 - val_loss: 0.0927\n",
      "Epoch 51/100\n",
      "60000/60000 [==============================] - 6s 100us/step - loss: 0.0923 - val_loss: 0.0933\n",
      "Epoch 52/100\n",
      "60000/60000 [==============================] - 7s 113us/step - loss: 0.0922 - val_loss: 0.0941\n",
      "Epoch 53/100\n",
      "60000/60000 [==============================] - 9s 151us/step - loss: 0.0920 - val_loss: 0.0916\n",
      "Epoch 54/100\n",
      "60000/60000 [==============================] - 8s 131us/step - loss: 0.0918 - val_loss: 0.0927\n",
      "Epoch 55/100\n",
      "60000/60000 [==============================] - 9s 149us/step - loss: 0.0916 - val_loss: 0.0897\n",
      "Epoch 56/100\n",
      "60000/60000 [==============================] - 11s 190us/step - loss: 0.0914 - val_loss: 0.0888\n",
      "Epoch 57/100\n",
      "60000/60000 [==============================] - 10s 169us/step - loss: 0.0912 - val_loss: 0.0911\n",
      "Epoch 58/100\n",
      "60000/60000 [==============================] - 11s 187us/step - loss: 0.0910 - val_loss: 0.0897\n",
      "Epoch 59/100\n",
      "60000/60000 [==============================] - 10s 166us/step - loss: 0.0908 - val_loss: 0.0902\n",
      "Epoch 60/100\n",
      "60000/60000 [==============================] - 10s 169us/step - loss: 0.0907 - val_loss: 0.0880\n",
      "Epoch 61/100\n",
      "60000/60000 [==============================] - 10s 168us/step - loss: 0.0905 - val_loss: 0.0904\n",
      "Epoch 62/100\n",
      "60000/60000 [==============================] - 9s 152us/step - loss: 0.0904 - val_loss: 0.0895\n",
      "Epoch 63/100\n",
      "60000/60000 [==============================] - 9s 150us/step - loss: 0.0902 - val_loss: 0.0887\n",
      "Epoch 64/100\n",
      "60000/60000 [==============================] - 9s 151us/step - loss: 0.0901 - val_loss: 0.0895\n",
      "Epoch 65/100\n",
      "60000/60000 [==============================] - 11s 180us/step - loss: 0.0899 - val_loss: 0.0914\n",
      "Epoch 66/100\n",
      "60000/60000 [==============================] - 10s 173us/step - loss: 0.0897 - val_loss: 0.0879\n",
      "Epoch 67/100\n",
      "60000/60000 [==============================] - 9s 150us/step - loss: 0.0896 - val_loss: 0.0895\n",
      "Epoch 68/100\n",
      "60000/60000 [==============================] - 10s 171us/step - loss: 0.0895 - val_loss: 0.0884\n",
      "Epoch 69/100\n",
      "60000/60000 [==============================] - 10s 167us/step - loss: 0.0894 - val_loss: 0.0881\n",
      "Epoch 70/100\n",
      "60000/60000 [==============================] - 10s 159us/step - loss: 0.0893 - val_loss: 0.0890\n",
      "Epoch 71/100\n",
      "60000/60000 [==============================] - 10s 162us/step - loss: 0.0891 - val_loss: 0.0890\n",
      "Epoch 72/100\n",
      "60000/60000 [==============================] - 10s 172us/step - loss: 0.0890 - val_loss: 0.0884\n",
      "Epoch 73/100\n",
      "60000/60000 [==============================] - 11s 180us/step - loss: 0.0889 - val_loss: 0.0880\n",
      "Epoch 74/100\n",
      "60000/60000 [==============================] - 13s 217us/step - loss: 0.0887 - val_loss: 0.0891\n",
      "Epoch 75/100\n",
      "60000/60000 [==============================] - 12s 193us/step - loss: 0.0886 - val_loss: 0.0877\n",
      "Epoch 76/100\n"
     ]
    },
    {
     "name": "stdout",
     "output_type": "stream",
     "text": [
      "60000/60000 [==============================] - 13s 210us/step - loss: 0.0885 - val_loss: 0.0896\n",
      "Epoch 77/100\n",
      "60000/60000 [==============================] - 11s 177us/step - loss: 0.0885 - val_loss: 0.0872\n",
      "Epoch 78/100\n",
      "60000/60000 [==============================] - 13s 209us/step - loss: 0.0883 - val_loss: 0.0958\n",
      "Epoch 79/100\n",
      "60000/60000 [==============================] - 13s 212us/step - loss: 0.0882 - val_loss: 0.0884\n",
      "Epoch 80/100\n",
      "60000/60000 [==============================] - 14s 236us/step - loss: 0.0882 - val_loss: 0.0883\n",
      "Epoch 81/100\n",
      "60000/60000 [==============================] - 14s 226us/step - loss: 0.0880 - val_loss: 0.0868\n",
      "Epoch 82/100\n",
      "60000/60000 [==============================] - 14s 232us/step - loss: 0.0879 - val_loss: 0.0880\n",
      "Epoch 83/100\n",
      "60000/60000 [==============================] - 13s 223us/step - loss: 0.0878 - val_loss: 0.0873\n",
      "Epoch 84/100\n",
      "60000/60000 [==============================] - 14s 235us/step - loss: 0.0878 - val_loss: 0.0871\n",
      "Epoch 85/100\n",
      "60000/60000 [==============================] - 14s 239us/step - loss: 0.0877 - val_loss: 0.0870\n",
      "Epoch 86/100\n",
      "60000/60000 [==============================] - 14s 227us/step - loss: 0.0876 - val_loss: 0.0872\n",
      "Epoch 87/100\n",
      "60000/60000 [==============================] - 13s 211us/step - loss: 0.0875 - val_loss: 0.0871\n",
      "Epoch 88/100\n",
      "60000/60000 [==============================] - 15s 243us/step - loss: 0.0874 - val_loss: 0.0874\n",
      "Epoch 89/100\n",
      "60000/60000 [==============================] - 13s 215us/step - loss: 0.0873 - val_loss: 0.0866\n",
      "Epoch 90/100\n",
      "60000/60000 [==============================] - 14s 234us/step - loss: 0.0872 - val_loss: 0.0890\n",
      "Epoch 91/100\n",
      "60000/60000 [==============================] - 13s 211us/step - loss: 0.0872 - val_loss: 0.0871\n",
      "Epoch 92/100\n",
      "60000/60000 [==============================] - 13s 212us/step - loss: 0.0872 - val_loss: 0.0850\n",
      "Epoch 93/100\n",
      "60000/60000 [==============================] - 11s 180us/step - loss: 0.0870 - val_loss: 0.0877\n",
      "Epoch 94/100\n",
      "60000/60000 [==============================] - 9s 152us/step - loss: 0.0870 - val_loss: 0.0866\n",
      "Epoch 95/100\n",
      "60000/60000 [==============================] - 10s 164us/step - loss: 0.0869 - val_loss: 0.0883\n",
      "Epoch 96/100\n",
      "60000/60000 [==============================] - 8s 134us/step - loss: 0.0868 - val_loss: 0.0868\n",
      "Epoch 97/100\n",
      "60000/60000 [==============================] - 8s 134us/step - loss: 0.0868 - val_loss: 0.0864\n",
      "Epoch 98/100\n",
      "60000/60000 [==============================] - 11s 187us/step - loss: 0.0867 - val_loss: 0.0853\n",
      "Epoch 99/100\n",
      "60000/60000 [==============================] - 10s 170us/step - loss: 0.0867 - val_loss: 0.0863\n",
      "Epoch 100/100\n",
      "60000/60000 [==============================] - 11s 175us/step - loss: 0.0866 - val_loss: 0.0859\n"
     ]
    },
    {
     "data": {
      "text/plain": [
       "<keras.callbacks.History at 0x2b66bee7e08>"
      ]
     },
     "execution_count": 6,
     "metadata": {},
     "output_type": "execute_result"
    }
   ],
   "source": [
    "deep_ae.fit(x_train,x_train,epochs=100,batch_size=64,shuffle=True,validation_data=(x_test,x_test))"
   ]
  },
  {
   "cell_type": "code",
   "execution_count": 7,
   "metadata": {},
   "outputs": [],
   "source": [
    "output_imgs = deep_ae.predict(x_test)"
   ]
  },
  {
   "cell_type": "code",
   "execution_count": 9,
   "metadata": {
    "scrolled": true
   },
   "outputs": [
    {
     "data": {
      "image/png": "[encoded data removed]",
      "text/plain": [
       "<Figure size 1440x288 with 16 Axes>"
      ]
     },
     "metadata": {
      "needs_background": "light"
     },
     "output_type": "display_data"
    }
   ],
   "source": [
    "import matplotlib.pyplot as plt\n",
    "n = 8\n",
    "plt.figure(figsize=(20,4))\n",
    "for i in range(n):\n",
    "    ax = plt.subplot(2,n,i+1)\n",
    "    plt.imshow(x_test[i].reshape(28,28))\n",
    "    plt.gray()\n",
    "    #ax.get_xaxis().set_visible(False)\n",
    "    #ax.get_yaxis().set_visible(False)\n",
    "    \n",
    "    ax = plt.subplot(2,n,i+1+n)\n",
    "    plt.imshow(output_imgs[i].reshape(28,28))\n",
    "    plt.gray()\n",
    "    #ax.get_xaxis().set_visible(False)\n",
    "    #ax.get_yaxis().set_visible(False)\n",
    "plt.show();"
   ]
  },
  {
   "cell_type": "markdown",
   "metadata": {},
   "source": [
    "Deep Convolutional Autoencoder"
   ]
  },
  {
   "cell_type": "code",
   "execution_count": 10,
   "metadata": {},
   "outputs": [
    {
     "name": "stderr",
     "output_type": "stream",
     "text": [
      "W1006 08:08:40.825610 10484 deprecation_wrapper.py:119] From C:\\Users\\Vijay\\Miniconda3\\envs\\env2\\lib\\site-packages\\keras\\backend\\tensorflow_backend.py:3976: The name tf.nn.max_pool is deprecated. Please use tf.nn.max_pool2d instead.\n",
      "\n",
      "W1006 08:08:40.942842 10484 deprecation_wrapper.py:119] From C:\\Users\\Vijay\\Miniconda3\\envs\\env2\\lib\\site-packages\\keras\\backend\\tensorflow_backend.py:2018: The name tf.image.resize_nearest_neighbor is deprecated. Please use tf.compat.v1.image.resize_nearest_neighbor instead.\n",
      "\n"
     ]
    }
   ],
   "source": [
    "from keras import backend as K\n",
    "from keras.layers import Conv2D, MaxPooling2D, UpSampling2D\n",
    "img_size = Input(shape=(28,28,1))\n",
    "x = Conv2D(16,(3,3),activation='relu',padding='same')(img_size)\n",
    "x = MaxPooling2D((2,2),padding='same')(x)\n",
    "x = Conv2D(8,(3,3),activation='relu',padding='same')(x)\n",
    "x = MaxPooling2D((2,2),padding='same')(x)\n",
    "x = Conv2D(8,(3,3),activation='relu',padding='same')(x)\n",
    "encoder = MaxPooling2D((2,2),padding='same')(x)\n",
    "\n",
    "x = Conv2D(8,(3,3),activation='relu',padding='same')(encoder)\n",
    "x = UpSampling2D((2,2))(x)\n",
    "x = Conv2D(8,(3,3),activation='relu',padding='same')(x)\n",
    "x = UpSampling2D((2,2))(x)\n",
    "x = Conv2D(16,(3,3),activation='relu')(x)\n",
    "x = UpSampling2D((2,2))(x)\n",
    "decoder = Conv2D(1,(3,3),activation='sigmoid',padding='same')(x)\n",
    "\n",
    "cnn_ae = Model(img_size,decoder)\n",
    "cnn_ae.compile(optimizer='adadelta',loss='binary_crossentropy')"
   ]
  },
  {
   "cell_type": "code",
   "execution_count": 11,
   "metadata": {},
   "outputs": [
    {
     "name": "stdout",
     "output_type": "stream",
     "text": [
      "(60000, 28, 28)\n",
      "(10000, 28, 28)\n",
      "(60000, 28, 28, 1)\n",
      "(10000, 28, 28, 1)\n"
     ]
    }
   ],
   "source": [
    "(cnn_train,_),(cnn_test,_) = mnist.load_data()\n",
    "cnn_train = cnn_train.astype('float32')/255.\n",
    "cnn_test = cnn_test.astype('float32')/255.\n",
    "print(cnn_train.shape)\n",
    "print(cnn_test.shape)\n",
    "cnn_train = np.reshape(cnn_train, (len(cnn_train),28,28,1))\n",
    "cnn_test = np.reshape(cnn_test, (len(cnn_test),28,28,1))\n",
    "print(cnn_train.shape)\n",
    "print(cnn_test.shape)"
   ]
  },
  {
   "cell_type": "code",
   "execution_count": 12,
   "metadata": {},
   "outputs": [
    {
     "name": "stdout",
     "output_type": "stream",
     "text": [
      "Train on 60000 samples, validate on 10000 samples\n",
      "Epoch 1/50\n",
      "60000/60000 [==============================] - 15s 258us/step - loss: 0.1883 - val_loss: 0.1445\n",
      "Epoch 2/50\n",
      "60000/60000 [==============================] - 13s 214us/step - loss: 0.1372 - val_loss: 0.1255\n",
      "Epoch 3/50\n",
      "60000/60000 [==============================] - 14s 234us/step - loss: 0.1251 - val_loss: 0.1212\n",
      "Epoch 4/50\n",
      "60000/60000 [==============================] - 17s 279us/step - loss: 0.1192 - val_loss: 0.1161\n",
      "Epoch 5/50\n",
      "60000/60000 [==============================] - 16s 261us/step - loss: 0.1155 - val_loss: 0.1171\n",
      "Epoch 6/50\n",
      "60000/60000 [==============================] - 15s 247us/step - loss: 0.1133 - val_loss: 0.1169\n",
      "Epoch 7/50\n",
      "60000/60000 [==============================] - 12s 206us/step - loss: 0.1114 - val_loss: 0.1149\n",
      "Epoch 8/50\n",
      "60000/60000 [==============================] - 14s 235us/step - loss: 0.1098 - val_loss: 0.1048\n",
      "Epoch 9/50\n",
      "60000/60000 [==============================] - 15s 258us/step - loss: 0.1080 - val_loss: 0.1102\n",
      "Epoch 10/50\n",
      "60000/60000 [==============================] - 15s 256us/step - loss: 0.1071 - val_loss: 0.1056\n",
      "Epoch 11/50\n",
      "60000/60000 [==============================] - 16s 271us/step - loss: 0.1061 - val_loss: 0.1087\n",
      "Epoch 12/50\n",
      "60000/60000 [==============================] - 15s 252us/step - loss: 0.1050 - val_loss: 0.1018\n",
      "Epoch 13/50\n",
      "60000/60000 [==============================] - 15s 258us/step - loss: 0.1045 - val_loss: 0.1007\n",
      "Epoch 14/50\n",
      "60000/60000 [==============================] - 17s 275us/step - loss: 0.1040 - val_loss: 0.1015\n",
      "Epoch 15/50\n",
      "60000/60000 [==============================] - 16s 263us/step - loss: 0.1031 - val_loss: 0.1022\n",
      "Epoch 16/50\n",
      "60000/60000 [==============================] - 16s 264us/step - loss: 0.1027 - val_loss: 0.1019\n",
      "Epoch 17/50\n",
      "60000/60000 [==============================] - 16s 264us/step - loss: 0.1020 - val_loss: 0.0997\n",
      "Epoch 18/50\n",
      "60000/60000 [==============================] - 15s 255us/step - loss: 0.1015 - val_loss: 0.1008\n",
      "Epoch 19/50\n",
      "60000/60000 [==============================] - 15s 251us/step - loss: 0.1010 - val_loss: 0.0979\n",
      "Epoch 20/50\n",
      "60000/60000 [==============================] - 12s 203us/step - loss: 0.1006 - val_loss: 0.1036\n",
      "Epoch 21/50\n",
      "60000/60000 [==============================] - 14s 229us/step - loss: 0.1000 - val_loss: 0.0959\n",
      "Epoch 22/50\n",
      "60000/60000 [==============================] - 13s 217us/step - loss: 0.0997 - val_loss: 0.1010\n",
      "Epoch 23/50\n",
      "60000/60000 [==============================] - 14s 235us/step - loss: 0.0992 - val_loss: 0.0987\n",
      "Epoch 24/50\n",
      "60000/60000 [==============================] - 17s 291us/step - loss: 0.0989 - val_loss: 0.0985\n",
      "Epoch 25/50\n",
      "60000/60000 [==============================] - 16s 264us/step - loss: 0.0984 - val_loss: 0.0947\n",
      "Epoch 26/50\n",
      "60000/60000 [==============================] - 17s 287us/step - loss: 0.0982 - val_loss: 0.0982\n",
      "Epoch 27/50\n",
      "60000/60000 [==============================] - 13s 220us/step - loss: 0.0981 - val_loss: 0.0974\n",
      "Epoch 28/50\n",
      "60000/60000 [==============================] - 17s 288us/step - loss: 0.0977 - val_loss: 0.1008\n",
      "Epoch 29/50\n",
      "60000/60000 [==============================] - 16s 264us/step - loss: 0.0976 - val_loss: 0.0961\n",
      "Epoch 30/50\n",
      "60000/60000 [==============================] - 17s 276us/step - loss: 0.0973 - val_loss: 0.0976\n",
      "Epoch 31/50\n",
      "60000/60000 [==============================] - 18s 307us/step - loss: 0.0970 - val_loss: 0.0941\n",
      "Epoch 32/50\n",
      "60000/60000 [==============================] - 20s 329us/step - loss: 0.0966 - val_loss: 0.0960\n",
      "Epoch 33/50\n",
      "60000/60000 [==============================] - 19s 312us/step - loss: 0.0967 - val_loss: 0.0974\n",
      "Epoch 34/50\n",
      "60000/60000 [==============================] - 13s 217us/step - loss: 0.0964 - val_loss: 0.0932\n",
      "Epoch 35/50\n",
      "60000/60000 [==============================] - 15s 254us/step - loss: 0.0962 - val_loss: 0.0962\n",
      "Epoch 36/50\n",
      "60000/60000 [==============================] - 15s 255us/step - loss: 0.0957 - val_loss: 0.0956\n",
      "Epoch 37/50\n",
      "60000/60000 [==============================] - 19s 322us/step - loss: 0.0956 - val_loss: 0.0931\n",
      "Epoch 38/50\n",
      "60000/60000 [==============================] - 19s 314us/step - loss: 0.0957 - val_loss: 0.0975\n",
      "Epoch 39/50\n",
      "60000/60000 [==============================] - 16s 262us/step - loss: 0.0954 - val_loss: 0.0940\n",
      "Epoch 40/50\n",
      "60000/60000 [==============================] - 18s 298us/step - loss: 0.0954 - val_loss: 0.0950\n",
      "Epoch 41/50\n",
      "60000/60000 [==============================] - 17s 291us/step - loss: 0.0951 - val_loss: 0.0933\n",
      "Epoch 42/50\n",
      "60000/60000 [==============================] - 17s 290us/step - loss: 0.0952 - val_loss: 0.0925\n",
      "Epoch 43/50\n",
      "60000/60000 [==============================] - 17s 283us/step - loss: 0.0949 - val_loss: 0.0932\n",
      "Epoch 44/50\n",
      "60000/60000 [==============================] - 14s 227us/step - loss: 0.0948 - val_loss: 0.0934\n",
      "Epoch 45/50\n",
      "60000/60000 [==============================] - 17s 280us/step - loss: 0.0948 - val_loss: 0.0958\n",
      "Epoch 46/50\n",
      "60000/60000 [==============================] - 17s 288us/step - loss: 0.0948 - val_loss: 0.0934\n",
      "Epoch 47/50\n",
      "60000/60000 [==============================] - 17s 288us/step - loss: 0.0945 - val_loss: 0.0933\n",
      "Epoch 48/50\n",
      "60000/60000 [==============================] - 17s 286us/step - loss: 0.0942 - val_loss: 0.0931\n",
      "Epoch 49/50\n",
      "60000/60000 [==============================] - 14s 237us/step - loss: 0.0943 - val_loss: 0.0947\n",
      "Epoch 50/50\n",
      "60000/60000 [==============================] - 16s 270us/step - loss: 0.0941 - val_loss: 0.0947\n"
     ]
    },
    {
     "data": {
      "text/plain": [
       "<keras.callbacks.History at 0x2b711a5bec8>"
      ]
     },
     "execution_count": 12,
     "metadata": {},
     "output_type": "execute_result"
    }
   ],
   "source": [
    "from keras.callbacks import TensorBoard\n",
    "cnn_ae.fit(cnn_train,cnn_train,epochs=50,batch_size=64,shuffle=True, validation_data=(cnn_test,cnn_test))"
   ]
  },
  {
   "cell_type": "code",
   "execution_count": 13,
   "metadata": {},
   "outputs": [
    {
     "data": {
      "image/png": "[encoded data removed]",
      "text/plain": [
       "<Figure size 1440x288 with 16 Axes>"
      ]
     },
     "metadata": {
      "needs_background": "light"
     },
     "output_type": "display_data"
    }
   ],
   "source": [
    "output_cnn = cnn_ae.predict(cnn_test)\n",
    "\n",
    "n = 8\n",
    "plt.figure(figsize=(20,4))\n",
    "for i in range(n):\n",
    "    ax = plt.subplot(2,n,i+1)\n",
    "    plt.imshow(cnn_test[i].reshape(28,28))\n",
    "    plt.gray()\n",
    "    #ax.get_xaxis().set_visible(False)\n",
    "    #ax.get_yaxis().set_visible(False)\n",
    "    \n",
    "    ax = plt.subplot(2,n,i+1+n)\n",
    "    plt.imshow(output_cnn[i].reshape(28,28))\n",
    "    plt.gray()\n",
    "    #ax.get_xaxis().set_visible(False)\n",
    "    #ax.get_yaxis().set_visible(False)\n",
    "plt.show();  "
   ]
  },
  {
   "cell_type": "code",
   "execution_count": 23,
   "metadata": {},
   "outputs": [
    {
     "name": "stdout",
     "output_type": "stream",
     "text": [
      "(60000,)\n",
      "(10000,)\n",
      "_________________________________________________________________\n",
      "Layer (type)                 Output Shape              Param #   \n",
      "=================================================================\n",
      "input_2 (InputLayer)         (None, 28, 28, 1)         0         \n",
      "_________________________________________________________________\n",
      "conv2d_1 (Conv2D)            (None, 28, 28, 16)        160       \n",
      "_________________________________________________________________\n",
      "max_pooling2d_1 (MaxPooling2 (None, 14, 14, 16)        0         \n",
      "_________________________________________________________________\n",
      "conv2d_2 (Conv2D)            (None, 14, 14, 8)         1160      \n",
      "_________________________________________________________________\n",
      "max_pooling2d_2 (MaxPooling2 (None, 7, 7, 8)           0         \n",
      "_________________________________________________________________\n",
      "conv2d_3 (Conv2D)            (None, 7, 7, 8)           584       \n",
      "_________________________________________________________________\n",
      "max_pooling2d_3 (MaxPooling2 (None, 4, 4, 8)           0         \n",
      "_________________________________________________________________\n",
      "flatten_2 (Flatten)          (None, 128)               0         \n",
      "_________________________________________________________________\n",
      "dense_12 (Dense)             (None, 10)                1290      \n",
      "=================================================================\n",
      "Total params: 3,194\n",
      "Trainable params: 1,290\n",
      "Non-trainable params: 1,904\n",
      "_________________________________________________________________\n"
     ]
    }
   ],
   "source": [
    "from keras.layers import Flatten\n",
    "flat = Flatten()(encoder)\n",
    "output_layer = Dense(10,activation='softmax')(flat)\n",
    "classifier_ae = Model(img_size,output_layer)\n",
    "classifier_ae.compile(optimizer='adadelta',loss='categorical_crossentropy',metrics=['accuracy'])\n",
    "(_,y_train),(_,y_test) = mnist.load_data()\n",
    "print(y_train.shape)\n",
    "print(y_test.shape)\n",
    "classifier_ae.summary()"
   ]
  },
  {
   "cell_type": "code",
   "execution_count": 21,
   "metadata": {},
   "outputs": [
    {
     "name": "stdout",
     "output_type": "stream",
     "text": [
      "_________________________________________________________________\n",
      "Layer (type)                 Output Shape              Param #   \n",
      "=================================================================\n",
      "input_2 (InputLayer)         (None, 28, 28, 1)         0         \n",
      "_________________________________________________________________\n",
      "conv2d_1 (Conv2D)            (None, 28, 28, 16)        160       \n",
      "_________________________________________________________________\n",
      "max_pooling2d_1 (MaxPooling2 (None, 14, 14, 16)        0         \n",
      "_________________________________________________________________\n",
      "conv2d_2 (Conv2D)            (None, 14, 14, 8)         1160      \n",
      "_________________________________________________________________\n",
      "max_pooling2d_2 (MaxPooling2 (None, 7, 7, 8)           0         \n",
      "_________________________________________________________________\n",
      "conv2d_3 (Conv2D)            (None, 7, 7, 8)           584       \n",
      "_________________________________________________________________\n",
      "max_pooling2d_3 (MaxPooling2 (None, 4, 4, 8)           0         \n",
      "_________________________________________________________________\n",
      "flatten_1 (Flatten)          (None, 128)               0         \n",
      "_________________________________________________________________\n",
      "dense_11 (Dense)             (None, 10)                1290      \n",
      "=================================================================\n",
      "Total params: 3,194\n",
      "Trainable params: 1,290\n",
      "Non-trainable params: 1,904\n",
      "_________________________________________________________________\n"
     ]
    }
   ],
   "source": [
    "for layer in classifier_ae.layers[:-1]:\n",
    "    layer.trainable=False\n",
    "classifier_ae.summary()"
   ]
  },
  {
   "cell_type": "code",
   "execution_count": 26,
   "metadata": {},
   "outputs": [
    {
     "name": "stdout",
     "output_type": "stream",
     "text": [
      "(60000, 10)\n",
      "(10000, 10)\n"
     ]
    }
   ],
   "source": [
    "from keras.utils import to_categorical\n",
    "train_labels = to_categorical(y_train)\n",
    "test_labels = to_categorical(y_test)\n",
    "print(train_labels.shape)\n",
    "print(test_labels.shape)"
   ]
  },
  {
   "cell_type": "code",
   "execution_count": 27,
   "metadata": {},
   "outputs": [
    {
     "name": "stdout",
     "output_type": "stream",
     "text": [
      "Epoch 1/10\n",
      "60000/60000 [==============================] - 9s 144us/step - loss: 1.0142 - acc: 0.7426\n",
      "Epoch 2/10\n",
      "60000/60000 [==============================] - 10s 168us/step - loss: 0.4774 - acc: 0.8783\n",
      "Epoch 3/10\n",
      "60000/60000 [==============================] - 5s 84us/step - loss: 0.3686 - acc: 0.9032\n",
      "Epoch 4/10\n",
      "60000/60000 [==============================] - 4s 70us/step - loss: 0.3181 - acc: 0.9137\n",
      "Epoch 5/10\n",
      "60000/60000 [==============================] - 7s 114us/step - loss: 0.2874 - acc: 0.9214\n",
      "Epoch 6/10\n",
      "60000/60000 [==============================] - 9s 142us/step - loss: 0.2670 - acc: 0.9257\n",
      "Epoch 7/10\n",
      "60000/60000 [==============================] - 7s 125us/step - loss: 0.2518 - acc: 0.9293\n",
      "Epoch 8/10\n",
      "60000/60000 [==============================] - 9s 144us/step - loss: 0.2398 - acc: 0.9318\n",
      "Epoch 9/10\n",
      "60000/60000 [==============================] - 9s 148us/step - loss: 0.2301 - acc: 0.9343\n",
      "Epoch 10/10\n",
      "60000/60000 [==============================] - 8s 126us/step - loss: 0.2220 - acc: 0.9365\n"
     ]
    },
    {
     "data": {
      "text/plain": [
       "<keras.callbacks.History at 0x2b742c4d908>"
      ]
     },
     "execution_count": 27,
     "metadata": {},
     "output_type": "execute_result"
    }
   ],
   "source": [
    "classifier_ae.fit(cnn_train,train_labels,epochs=10,batch_size=64)"
   ]
  },
  {
   "cell_type": "code",
   "execution_count": 29,
   "metadata": {},
   "outputs": [
    {
     "name": "stdout",
     "output_type": "stream",
     "text": [
      "Epoch 1/20\n",
      "60000/60000 [==============================] - 9s 157us/step - loss: 0.1775 - acc: 0.9478\n",
      "Epoch 2/20\n",
      "60000/60000 [==============================] - 12s 198us/step - loss: 0.1753 - acc: 0.9490\n",
      "Epoch 3/20\n",
      "60000/60000 [==============================] - 12s 196us/step - loss: 0.1731 - acc: 0.9497\n",
      "Epoch 4/20\n",
      "60000/60000 [==============================] - 12s 197us/step - loss: 0.1714 - acc: 0.9501\n",
      "Epoch 5/20\n",
      "60000/60000 [==============================] - 12s 197us/step - loss: 0.1694 - acc: 0.9510\n",
      "Epoch 6/20\n",
      "60000/60000 [==============================] - 12s 199us/step - loss: 0.1675 - acc: 0.9511\n",
      "Epoch 7/20\n",
      "60000/60000 [==============================] - 12s 198us/step - loss: 0.1659 - acc: 0.9522\n",
      "Epoch 8/20\n",
      "60000/60000 [==============================] - 9s 146us/step - loss: 0.1641 - acc: 0.9521\n",
      "Epoch 9/20\n",
      "60000/60000 [==============================] - 8s 125us/step - loss: 0.1628 - acc: 0.9519\n",
      "Epoch 10/20\n",
      "60000/60000 [==============================] - 8s 126us/step - loss: 0.1612 - acc: 0.9535\n",
      "Epoch 11/20\n",
      "60000/60000 [==============================] - 8s 126us/step - loss: 0.1599 - acc: 0.9534\n",
      "Epoch 12/20\n",
      "60000/60000 [==============================] - 9s 150us/step - loss: 0.1585 - acc: 0.9537\n",
      "Epoch 13/20\n",
      "60000/60000 [==============================] - 11s 186us/step - loss: 0.1574 - acc: 0.9542\n",
      "Epoch 14/20\n",
      "60000/60000 [==============================] - 11s 179us/step - loss: 0.1562 - acc: 0.9542\n",
      "Epoch 15/20\n",
      "60000/60000 [==============================] - 11s 177us/step - loss: 0.1550 - acc: 0.9543\n",
      "Epoch 16/20\n",
      "60000/60000 [==============================] - 11s 175us/step - loss: 0.1540 - acc: 0.9552\n",
      "Epoch 17/20\n",
      "60000/60000 [==============================] - 11s 183us/step - loss: 0.1529 - acc: 0.9553\n",
      "Epoch 18/20\n",
      "60000/60000 [==============================] - 10s 173us/step - loss: 0.1518 - acc: 0.9551\n",
      "Epoch 19/20\n",
      "60000/60000 [==============================] - 10s 166us/step - loss: 0.1510 - acc: 0.9554\n",
      "Epoch 20/20\n",
      "60000/60000 [==============================] - 8s 137us/step - loss: 0.1502 - acc: 0.9557\n"
     ]
    },
    {
     "data": {
      "text/plain": [
       "<keras.callbacks.History at 0x2b74a443348>"
      ]
     },
     "execution_count": 29,
     "metadata": {},
     "output_type": "execute_result"
    }
   ],
   "source": [
    "classifier_ae.fit(cnn_train,train_labels,epochs=20,batch_size=64)"
   ]
  },
  {
   "cell_type": "code",
   "execution_count": 35,
   "metadata": {},
   "outputs": [
    {
     "name": "stdout",
     "output_type": "stream",
     "text": [
      "[[9.10179168e-08 2.92644842e-08 1.25833130e-05 ... 9.99895334e-01\n",
      "  4.76542880e-07 1.04350165e-05]\n",
      " [8.13652296e-05 2.06586067e-03 9.94884789e-01 ... 5.32960254e-09\n",
      "  1.79820781e-04 1.22748711e-09]\n",
      " [5.42875350e-05 9.97860014e-01 5.84281981e-04 ... 2.88167881e-04\n",
      "  3.02790373e-04 3.13680212e-05]\n",
      " ...\n",
      " [8.80871085e-07 3.91325813e-07 7.03207206e-07 ... 1.61869510e-04\n",
      "  2.21395143e-03 5.95729519e-03]\n",
      " [1.05555795e-04 1.67535818e-05 2.13321619e-05 ... 5.15983061e-07\n",
      "  2.63182409e-02 5.54012222e-05]\n",
      " [4.73526830e-04 1.57957444e-07 1.03169284e-03 ... 2.76133405e-09\n",
      "  7.93173785e-06 4.79176832e-09]]\n",
      "[7 2 1 ... 4 5 6]\n"
     ]
    }
   ],
   "source": [
    "predict_labels = classifier_ae.predict(cnn_test)\n",
    "print(predict_labels)\n",
    "predict_labels = predict_labels.argmax(axis=-1)\n",
    "print(predict_labels)"
   ]
  },
  {
   "cell_type": "code",
   "execution_count": 38,
   "metadata": {},
   "outputs": [
    {
     "name": "stdout",
     "output_type": "stream",
     "text": [
      "Test loss: 0.14559910087585448\n",
      "Test accuracy: 0.9558\n"
     ]
    }
   ],
   "source": [
    "scores = classifier_ae.evaluate(cnn_test,test_labels,verbose=0)\n",
    "print('Test loss:', scores[0])\n",
    "print('Test accuracy:', scores[1])"
   ]
  },
  {
   "cell_type": "code",
   "execution_count": 53,
   "metadata": {},
   "outputs": [
    {
     "name": "stdout",
     "output_type": "stream",
     "text": [
      "Final Labels\n",
      "[7 2 1 ... 4 5 6]\n",
      "(10000,)\n",
      "[7 2 1 ... 4 5 6]\n",
      "(10000,)\n",
      "(10000, 28, 28, 1)\n"
     ]
    }
   ],
   "source": [
    "print(\"Final Labels\")\n",
    "print(y_test)\n",
    "print(y_test.shape)\n",
    "print(predict_labels)\n",
    "print(predict_labels.shape)"
   ]
  },
  {
   "cell_type": "code",
   "execution_count": 47,
   "metadata": {},
   "outputs": [
    {
     "name": "stdout",
     "output_type": "stream",
     "text": [
      "[[ 959    0    1    2    0    6    6    2    4    0]\n",
      " [   0 1118    4    0    1    2    3    0    7    0]\n",
      " [   6    1  985   15    4    1    1    4   14    1]\n",
      " [   1    0    7  968    0   13    0    4   14    3]\n",
      " [   0    0    8    0  942    0    5    2    5   20]\n",
      " [   5    0    0   18    1  851    7    0    8    2]\n",
      " [   9    2    3    1    6   14  920    1    2    0]\n",
      " [   0    2   18   10    5    1    0  975    2   15]\n",
      " [   6    0    4   23    6    9    5    6  902   13]\n",
      " [   7    4    2   11   23    8    1    9    6  938]]\n"
     ]
    }
   ],
   "source": [
    "from sklearn.metrics import confusion_matrix\n",
    "print(confusion_matrix(y_test,predict_labels,labels=[0,1,2,3,4,5,6,7,8,9]))"
   ]
  },
  {
   "cell_type": "code",
   "execution_count": 55,
   "metadata": {},
   "outputs": [
    {
     "data": {
      "image/png": "[encoded data removed]",
      "text/plain": [
       "<Figure size 2160x720 with 12 Axes>"
      ]
     },
     "metadata": {
      "needs_background": "light"
     },
     "output_type": "display_data"
    }
   ],
   "source": [
    "n = 12\n",
    "plt.figure(figsize=(30,10))\n",
    "for i in range(n):\n",
    "    plt.subplot(3,4,i+1)\n",
    "    plt.imshow(cnn_test[i].reshape(28,28),cmap='gray', interpolation='none')\n",
    "    plt.title(\"Predicted {}, Class {}\".format(predict_labels[i], y_test[i]))\n",
    "    #ax.get_xaxis().set_visible(False)\n",
    "    #ax.get_yaxis().set_visible(False)\n",
    "plt.show()"
   ]
  },
  {
   "cell_type": "code",
   "execution_count": null,
   "metadata": {},
   "outputs": [],
   "source": []
  }
 ],
 "metadata": {
  "kernelspec": {
   "display_name": "Python 3",
   "language": "python",
   "name": "python3"
  },
  "language_info": {
   "codemirror_mode": {
    "name": "ipython",
    "version": 3
   },
   "file_extension": ".py",
   "mimetype": "text/x-python",
   "name": "python",
   "nbconvert_exporter": "python",
   "pygments_lexer": "ipython3",
   "version": "3.7.4"
  }
 },
 "nbformat": 4,
 "nbformat_minor": 2
}
